{
 "cells": [
  {
   "cell_type": "code",
   "execution_count": 13,
   "id": "7164d3a6-738f-4f64-8ae9-d5d05650b959",
   "metadata": {},
   "outputs": [],
   "source": [
    "import os\n",
    "import numpy as np\n",
    "import tensorflow as tf\n",
    "from tensorflow.keras.datasets import cifar10"
   ]
  },
  {
   "cell_type": "code",
   "execution_count": 14,
   "id": "ff7c110d-7d02-4d35-88cc-9098907df8aa",
   "metadata": {},
   "outputs": [],
   "source": [
    "class ResNet:\n",
    "    \n",
    "    def __init__(self, height, width, channels, classes):\n",
    "        self.height = height\n",
    "        self.width = width\n",
    "        self.channels = channels\n",
    "        self.classes = classes\n",
    "\n",
    "        #CONFIGURATIONS\n",
    "        self.batch_size = 128\n",
    "        self.verbose = 1\n",
    "        self.n = 3\n",
    "        self.feature_maps = 16\n",
    "        self.shortcut_type = 'identity'\n",
    "\n",
    "        self.max_iterations = 64000\n",
    "        self.loss_function = tf.keras.losses.CategoricalCrossentropy(from_logits=True)\n",
    "        self.boundaries = [32000, 48000]\n",
    "        self.learning_rates = [0.1, 0.01, 0.001]\n",
    "        self.lr_schedule = tf.keras.optimizers.schedules.PiecewiseConstantDecay(self.boundaries, self.values)\n",
    "\n",
    "        self.initializer = tf.keras.initializers.HeNormal()\n",
    "        self.optimizer_momentum = 0.9\n",
    "        self.optimizer_additional_metrics = [\"accuracy\"]\n",
    "        self.optimizer = tf.keras.optimizersSGD(learning_rate=self.lr_schedule, momentum=self.optimizer_momentum)\n",
    "\n",
    "        # Load Tensorboard callback\n",
    "        tensorboard = tf.keras.callbacks.TensorBoard(\n",
    "          log_dir=os.path.join(os.getcwd(), \"logs\"),\n",
    "          histogram_freq=1,\n",
    "          write_images=True)\n",
    "\n",
    "          # Save a model checkpoint after every epoch\n",
    "        checkpoint = tf.keras.callbacks.ModelCheckpoint(\n",
    "            os.path.join(os.getcwd(), \n",
    "        \"model_checkpoint\"),\n",
    "            save_freq=\"epoch\")\n",
    "\n",
    "          # Add callbacks to list\n",
    "        self.callbacks = [tensorboard, checkpoint]\n",
    "  \n",
    "  \n",
    "    def train(self, x_train, y_train, x_test, y_test):\n",
    "        self.n_training = len(x_train)\n",
    "        self.n_test = len(x_test)\n",
    "        self.steps_per_epoch = tf.math.floor(self.n_training/self.batch_size)\n",
    "        self.val_steps_per_epoch = tf.math.floor(self.n_test/self.batch_size)\n",
    "        self.epochs = tf.cast(tf.math.floor(self.max_iterations / steps_per_epoch), dtype=tf.int64)\n",
    "        return\n",
    "\n",
    "    def predict(self, x_test):\n",
    "        self.n_training = len(x_test)\n",
    "        return"
   ]
  },
  {
   "cell_type": "code",
   "execution_count": 15,
   "id": "21b860c6-bc0a-41cc-bc79-fbabf43cd58c",
   "metadata": {},
   "outputs": [
    {
     "ename": "IndexError",
     "evalue": "index 6 is out of bounds for axis 1 with size 2",
     "output_type": "error",
     "traceback": [
      "\u001b[0;31m---------------------------------------------------------------------------\u001b[0m",
      "\u001b[0;31mIndexError\u001b[0m                                Traceback (most recent call last)",
      "Cell \u001b[0;32mIn [15], line 30\u001b[0m\n\u001b[1;32m     26\u001b[0m     test_batches \u001b[38;5;241m=\u001b[39m test_generator\u001b[38;5;241m.\u001b[39mflow(input_test, target_test, batch_size\u001b[38;5;241m=\u001b[39m\u001b[38;5;241m128\u001b[39m)\n\u001b[1;32m     28\u001b[0m     \u001b[38;5;28;01mreturn\u001b[39;00m train_batches, validation_batches, test_batches\n\u001b[0;32m---> 30\u001b[0m train_batches, validation_batches, test_batches \u001b[38;5;241m=\u001b[39m \u001b[43mdata\u001b[49m\u001b[43m(\u001b[49m\u001b[43m)\u001b[49m\n",
      "Cell \u001b[0;32mIn [15], line 5\u001b[0m, in \u001b[0;36mdata\u001b[0;34m()\u001b[0m\n\u001b[1;32m      2\u001b[0m (input_train, target_train), (input_test, target_test) \u001b[38;5;241m=\u001b[39m cifar10\u001b[38;5;241m.\u001b[39mload_data()\n\u001b[1;32m      4\u001b[0m \u001b[38;5;66;03m#one hot encoding\u001b[39;00m\n\u001b[0;32m----> 5\u001b[0m target_train \u001b[38;5;241m=\u001b[39m \u001b[43mtf\u001b[49m\u001b[38;5;241;43m.\u001b[39;49m\u001b[43mkeras\u001b[49m\u001b[38;5;241;43m.\u001b[39;49m\u001b[43mutils\u001b[49m\u001b[38;5;241;43m.\u001b[39;49m\u001b[43mto_categorical\u001b[49m\u001b[43m(\u001b[49m\u001b[43mtarget_train\u001b[49m\u001b[43m,\u001b[49m\u001b[43m \u001b[49m\u001b[38;5;241;43m2\u001b[39;49m\u001b[43m)\u001b[49m\n\u001b[1;32m      6\u001b[0m target_test \u001b[38;5;241m=\u001b[39m tf\u001b[38;5;241m.\u001b[39mkeras\u001b[38;5;241m.\u001b[39mutils\u001b[38;5;241m.\u001b[39mto_categorical(target_test, \u001b[38;5;241m2\u001b[39m)\n\u001b[1;32m      8\u001b[0m \u001b[38;5;66;03m# Data generator for training data\u001b[39;00m\n",
      "File \u001b[0;32m~/miniconda3/lib/python3.9/site-packages/keras/utils/np_utils.py:73\u001b[0m, in \u001b[0;36mto_categorical\u001b[0;34m(y, num_classes, dtype)\u001b[0m\n\u001b[1;32m     71\u001b[0m n \u001b[38;5;241m=\u001b[39m y\u001b[38;5;241m.\u001b[39mshape[\u001b[38;5;241m0\u001b[39m]\n\u001b[1;32m     72\u001b[0m categorical \u001b[38;5;241m=\u001b[39m np\u001b[38;5;241m.\u001b[39mzeros((n, num_classes), dtype\u001b[38;5;241m=\u001b[39mdtype)\n\u001b[0;32m---> 73\u001b[0m \u001b[43mcategorical\u001b[49m\u001b[43m[\u001b[49m\u001b[43mnp\u001b[49m\u001b[38;5;241;43m.\u001b[39;49m\u001b[43marange\u001b[49m\u001b[43m(\u001b[49m\u001b[43mn\u001b[49m\u001b[43m)\u001b[49m\u001b[43m,\u001b[49m\u001b[43m \u001b[49m\u001b[43my\u001b[49m\u001b[43m]\u001b[49m \u001b[38;5;241m=\u001b[39m \u001b[38;5;241m1\u001b[39m\n\u001b[1;32m     74\u001b[0m output_shape \u001b[38;5;241m=\u001b[39m input_shape \u001b[38;5;241m+\u001b[39m (num_classes,)\n\u001b[1;32m     75\u001b[0m categorical \u001b[38;5;241m=\u001b[39m np\u001b[38;5;241m.\u001b[39mreshape(categorical, output_shape)\n",
      "\u001b[0;31mIndexError\u001b[0m: index 6 is out of bounds for axis 1 with size 2"
     ]
    }
   ],
   "source": [
    "def data():\n",
    "    (input_train, target_train), (input_test, target_test) = cifar10.load_data()\n",
    "    \n",
    "    #one hot encoding\n",
    "    target_train = tf.keras.utils.to_categorical(target_train, 2)\n",
    "    target_test = tf.keras.utils.to_categorical(target_test, 2)\n",
    "\n",
    "    # Data generator for training data\n",
    "    train_generator = tf.keras.preprocessing.image.ImageDataGenerator(\n",
    "    validation_split = 0.1,\n",
    "\thorizontal_flip = True,\n",
    "\trescale = 1./255,\n",
    "\tpreprocessing_function = tensorflow.keras.applications.resnet50.preprocess_input\n",
    "\t)\n",
    "\n",
    "    # Generate training and validation batches\n",
    "    train_batches = train_generator.flow(input_train, target_train, batch_size=128, subset=\"training\")\n",
    "    validation_batches = train_generator.flow(input_train, target_train, batch_size=128, subset=\"validation\")\n",
    "\n",
    "\t# Data generator for testing data\n",
    "    test_generator = tf.keras.preprocessing.image.ImageDataGenerator(\n",
    "\tpreprocessing_function = tensorflow.keras.applications.resnet50.preprocess_input, \n",
    "    rescale = 1./255)\n",
    "\n",
    "\t# Generate test batches\n",
    "    test_batches = test_generator.flow(input_test, target_test, batch_size=128)\n",
    "\n",
    "    return train_batches, validation_batches, test_batches\n",
    "  \n",
    "train_batches, validation_batches, test_batches = data()"
   ]
  },
  {
   "cell_type": "code",
   "execution_count": null,
   "id": "136a797c-0d9c-4f0b-b4fa-f03e967583a9",
   "metadata": {},
   "outputs": [],
   "source": []
  }
 ],
 "metadata": {
  "kernelspec": {
   "display_name": "Python 3 (ipykernel)",
   "language": "python",
   "name": "python3"
  },
  "language_info": {
   "codemirror_mode": {
    "name": "ipython",
    "version": 3
   },
   "file_extension": ".py",
   "mimetype": "text/x-python",
   "name": "python",
   "nbconvert_exporter": "python",
   "pygments_lexer": "ipython3",
   "version": "3.9.12"
  }
 },
 "nbformat": 4,
 "nbformat_minor": 5
}
