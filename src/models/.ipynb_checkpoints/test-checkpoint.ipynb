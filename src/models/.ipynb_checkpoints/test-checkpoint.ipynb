{
 "cells": [
  {
   "cell_type": "code",
   "execution_count": 15,
   "id": "1a4a867e-1e8d-47c8-ac3c-d946beb55eac",
   "metadata": {},
   "outputs": [],
   "source": [
    "import math\n",
    "import numpy as np\n",
    "import scipy\n",
    "import h5py\n",
    "from tensorflow.keras.layers import Input, Add, Dense, Activation, ZeroPadding2D, BatchNormalization  \n",
    "from tensorflow.keras.layers import Flatten, Conv2D, AveragePooling2D, MaxPooling2D\n",
    "from tensorflow.keras.models import Model\n",
    "from tensorflow.keras.preprocessing import image\n",
    "from tensorflow.keras.initializers import glorot_uniform\n",
    "from tensorflow.keras.applications.imagenet_utils import preprocess_input\n",
    "from matplotlib.pyplot import imshow\n",
    "from tensorflow.keras.datasets import mnist\n"
   ]
  },
  {
   "cell_type": "code",
   "execution_count": 16,
   "id": "382f562d-f895-47c1-8a44-787ae1ed3a01",
   "metadata": {},
   "outputs": [],
   "source": [
    "def identity_block(X, f, filters, stage, block):\n",
    "    \"\"\"\n",
    "    Implementation of the identity block as defined in Figure   \n",
    "\n",
    "    Parameters\n",
    "    ----------\n",
    "    X : tensor\n",
    "        input tensor of shape (m, n_H_prev, n_W_prev, n_C_prev)\n",
    "    f : integer\n",
    "        specifying the shape of the middle CONV's window for the main path\n",
    "    filters : list\n",
    "        python list of integers, defining the number of filters in the CONV layers of the main path\n",
    "    stage : integer\n",
    "        used to name the layers, depending on their position in the network\n",
    "    block : str\n",
    "        used to name the layers, depending on their position in the network\n",
    "\n",
    "    Returns\n",
    "    -------\n",
    "    X : tensor\n",
    "        output of the identity block, tensor of shape (n_H, n_W, n_C)\n",
    "    \"\"\"\n",
    "\n",
    "    # defining name basis\n",
    "    conv_name_base = 'res' + str(stage) + block + '_branch'\n",
    "    bn_name_base = 'bn' + str(stage) + block + '_branch'\n",
    "\n",
    "    # Retrieve Filters\n",
    "    F1, F2, F3 = filters\n",
    "\n",
    "    # Save the input value. we'll need this later to add back to the main path. \n",
    "    X_shortcut = X\n",
    "\n",
    "    # First component of main path\n",
    "    X = Conv2D(filters=F1, kernel_size=(1, 1), strides=(1, 1), padding='valid', \n",
    "               name=conv_name_base + '2a', kernel_initializer=glorot_uniform(seed=0))(X)\n",
    "    X = BatchNormalization(axis=3, name=bn_name_base + '2a')(X)\n",
    "    X = Activation('relu')(X)\n",
    "\n",
    "    # # Second component of main path\n",
    "    # X = Conv2D(filters=F2, kernel_size=(f, f), strides=(1, 1), padding='same', \n",
    "    #            name=conv_name_base + '2b', kernel_initializer=glorot_uniform(seed=0))(X)\n",
    "    # X = BatchNormalization(axis=3, name=bn_name_base + '2b')(X)\n",
    "    # X = Activation('relu')(X)\n",
    "\n",
    "    # Third component of main path\n",
    "    X = Conv2D(filters=F3, kernel_size=(1, 1), strides=(1, 1), padding='valid', \n",
    "               name=conv_name_base + '2c', kernel_initializer=glorot_uniform(seed=0))(X)\n",
    "    X = BatchNormalization(axis=3, name=bn_name_base + '2c')(X)\n",
    "\n",
    "    # Final step: Add shortcut value to main path, and pass it through a RELU activation\n",
    "    X = Add()([X, X_shortcut])\n",
    "    X = Activation('relu')(X)\n",
    "\n",
    "    return X"
   ]
  },
  {
   "cell_type": "code",
   "execution_count": 17,
   "id": "ab19026e-8f15-4d23-9592-224d03421f45",
   "metadata": {},
   "outputs": [],
   "source": [
    "def ResNet50(input_shape, outputClasses):\n",
    "    \"\"\"\n",
    "    Implementation of the popular ResNet50 the following architecture:\n",
    "    CONV2D -> BATCHNORM -> RELU -> MAXPOOL -> CONVBLOCK -> IDBLOCK*2 -> CONVBLOCK -> IDBLOCK*3\n",
    "    -> CONVBLOCK -> IDBLOCK*5 -> CONVBLOCK -> IDBLOCK*2 -> AVGPOOL -> TOPLAYER\n",
    "\n",
    "    Parameters\n",
    "    ----------\n",
    "    input_shape : tuple, optional\n",
    "        shape of the input image. \n",
    "    outputClasses : integer, optional\n",
    "        number of classes. \n",
    "\n",
    "    Returns\n",
    "    -------\n",
    "    model : object\n",
    "        a Model() instance in Keras\n",
    "    \"\"\"\n",
    "    \n",
    "    # Define the input as a tensor with shape input_shape\n",
    "    X_input = Input(input_shape)\n",
    "\n",
    "#     # Zero-Padding\n",
    "#     X = ZeroPadding2D((3, 3))(X_input)\n",
    "\n",
    "#     # Stage 1\n",
    "#     X = Conv2D(64, (7, 7), strides=(2, 2), name='conv1', kernel_initializer=glorot_uniform(seed=0))(X)\n",
    "#     X = BatchNormalization(axis=3, name='bn_conv1')(X)\n",
    "#     X = Activation('relu')(X)\n",
    "#     # X = MaxPooling2D((3, 3), strides=(2, 2))(X)\n",
    "\n",
    "#     # Stage 2\n",
    "#     # X = convolutional_block(X, f=3, filters=[64, 64, 256], stage=2, block='a', s=1)\n",
    "#     X = identity_block(X, 3, [64, 64, 64], stage=2, block='b')\n",
    "#     X = identity_block(X, 3, [64, 64, 256], stage=2, block='c')\n",
    "\n",
    "#     # Stage 3 \n",
    "#     X = convolutional_block(X, f=3, filters=[128, 128, 512], stage=3, block='a', s=2)\n",
    "#     X = identity_block(X, 3, [128, 128, 512], stage=3, block='b')\n",
    "#     X = identity_block(X, 3, [128, 128, 512], stage=3, block='c')\n",
    "#     X = identity_block(X, 3, [128, 128, 512], stage=3, block='d')\n",
    "\n",
    "#     # Stage 4\n",
    "#     X = convolutional_block(X, f=3, filters=[256, 256, 1024], stage=4, block='a', s=2)\n",
    "#     X = identity_block(X, 3, [256, 256, 1024], stage=4, block='b')\n",
    "#     X = identity_block(X, 3, [256, 256, 1024], stage=4, block='c')\n",
    "#     X = identity_block(X, 3, [256, 256, 1024], stage=4, block='d')\n",
    "#     X = identity_block(X, 3, [256, 256, 1024], stage=4, block='e')\n",
    "#     X = identity_block(X, 3, [256, 256, 1024], stage=4, block='f')\n",
    "\n",
    "#     # Stage 5\n",
    "#     X = convolutional_block(X, f=3, filters=[512, 512, 2048], stage=5, block='a', s=2)\n",
    "#     X = identity_block(X, 3, [512, 512, 2048], stage=5, block='b')\n",
    "#     X = identity_block(X, 3, [512, 512, 2048], stage=5, block='c')\n",
    "\n",
    "    # AVGPOOL \n",
    "    # X = AveragePooling2D(pool_size=(2, 2), padding='same')(X)\n",
    "\n",
    "    # output layer\n",
    "    X = Flatten()(X)\n",
    "    x = Dense(10, activation = 'sigmoid', name = 'fc2', kernel_initializer = glorot_uniform(seed=0))(X) \n",
    "\n",
    "    X = Dense(outputClasses, activation='softmax', name='fc' + str(outputClasses), \n",
    "              kernel_initializer=glorot_uniform(seed=0))(X)\n",
    "\n",
    "    # Create model\n",
    "    model = Model(inputs=X_input, outputs=X, name='ResNet50')\n",
    "\n",
    "    return model"
   ]
  },
  {
   "cell_type": "code",
   "execution_count": 18,
   "id": "eca8fca7-9314-4dc0-a687-302217ebae72",
   "metadata": {},
   "outputs": [],
   "source": [
    "#Function to load dataset from hierarchical distributed files i.e. (.h5) extension file\n",
    "def load_dataset():\n",
    "    train_dataset = h5py.File('train_signs.h5', \"r\")\n",
    "    train_set_x_orig = np.array(train_dataset[\"train_set_x\"][:]) # your train set features\n",
    "    train_set_y_orig = np.array(train_dataset[\"train_set_y\"][:]) # your train set labels\n",
    "\n",
    "    test_dataset = h5py.File('test_signs.h5', \"r\")\n",
    "    test_set_x_orig = np.array(test_dataset[\"test_set_x\"][:]) # your test set features\n",
    "    test_set_y_orig = np.array(test_dataset[\"test_set_y\"][:]) # your test set labels\n",
    "\n",
    "    classes = np.array(test_dataset[\"list_classes\"][:]) # the list of classes\n",
    "    \n",
    "    train_set_y_orig = train_set_y_orig.reshape((1, train_set_y_orig.shape[0]))\n",
    "    test_set_y_orig = test_set_y_orig.reshape((1, test_set_y_orig.shape[0]))\n",
    "    \n",
    "    return train_set_x_orig, train_set_y_orig, test_set_x_orig, test_set_y_orig, classes"
   ]
  },
  {
   "cell_type": "code",
   "execution_count": 19,
   "id": "f24847ae-d81e-4867-839d-3f30ce949077",
   "metadata": {},
   "outputs": [],
   "source": [
    "(X_train_orig, Y_train_orig), (X_test_orig, Y_test_orig) = mnist.load_data()\n",
    "classes = 10\n",
    "\n",
    "\n",
    "# Normalize image vectors\n",
    "X_train = X_train_orig / 255.\n",
    "X_test = X_test_orig / 255."
   ]
  },
  {
   "cell_type": "code",
   "execution_count": 20,
   "id": "b3b656bd-de57-4d79-954a-3dbd10a5fd33",
   "metadata": {},
   "outputs": [],
   "source": [
    "# Function to create onehot encoding for different class categories\n",
    "def convert_to_one_hot(Y, C):\n",
    "    \"\"\"\n",
    "    one hot encoding output classes\n",
    "\n",
    "    Parameters\n",
    "    ----------\n",
    "    Y : array\n",
    "        output array of different classes\n",
    "    C : int\n",
    "        number of classes in output array\n",
    "\n",
    "    Returns\n",
    "    -------\n",
    "    Y : array\n",
    "        one hot encoded output array of different classes\n",
    "    \"\"\"\n",
    "    Y = np.eye(C)[Y.reshape(-1)].T\n",
    "    return Y"
   ]
  },
  {
   "cell_type": "code",
   "execution_count": 21,
   "id": "e3ed0d86-7c3e-4bcf-b320-c4e4912387ec",
   "metadata": {},
   "outputs": [
    {
     "name": "stdout",
     "output_type": "stream",
     "text": [
      "number of training examples = 60000\n",
      "number of test examples = 10000\n",
      "X_train shape: (60000, 28, 28)\n",
      "Y_train shape: (60000, 10)\n"
     ]
    }
   ],
   "source": [
    "# Convert training and test labels to one hot matrices\n",
    "Y_train = convert_to_one_hot(Y_train_orig, 10).T\n",
    "Y_test = convert_to_one_hot(Y_test_orig, 10).T\n",
    "\n",
    "print(\"number of training examples = \" + str(X_train.shape[0]))\n",
    "print(\"number of test examples = \" + str(X_test.shape[0]))\n",
    "print(\"X_train shape: \" + str(X_train.shape))\n",
    "print(\"Y_train shape: \" + str(Y_train.shape))"
   ]
  },
  {
   "cell_type": "code",
   "execution_count": 22,
   "id": "1b233af2-c157-4254-86b1-2bfa554a44e4",
   "metadata": {},
   "outputs": [
    {
     "ename": "UnboundLocalError",
     "evalue": "local variable 'X' referenced before assignment",
     "output_type": "error",
     "traceback": [
      "\u001b[0;31m---------------------------------------------------------------------------\u001b[0m",
      "\u001b[0;31mUnboundLocalError\u001b[0m                         Traceback (most recent call last)",
      "Cell \u001b[0;32mIn [22], line 1\u001b[0m\n\u001b[0;32m----> 1\u001b[0m model \u001b[38;5;241m=\u001b[39m \u001b[43mResNet50\u001b[49m\u001b[43m(\u001b[49m\u001b[43minput_shape\u001b[49m\u001b[38;5;241;43m=\u001b[39;49m\u001b[43m(\u001b[49m\u001b[38;5;241;43m28\u001b[39;49m\u001b[43m,\u001b[49m\u001b[43m \u001b[49m\u001b[38;5;241;43m28\u001b[39;49m\u001b[43m,\u001b[49m\u001b[43m \u001b[49m\u001b[38;5;241;43m1\u001b[39;49m\u001b[43m)\u001b[49m\u001b[43m,\u001b[49m\u001b[43m \u001b[49m\u001b[43moutputClasses\u001b[49m\u001b[38;5;241;43m=\u001b[39;49m\u001b[38;5;241;43m10\u001b[39;49m\u001b[43m)\u001b[49m\n\u001b[1;32m      2\u001b[0m model\u001b[38;5;241m.\u001b[39mcompile(optimizer\u001b[38;5;241m=\u001b[39m\u001b[38;5;124m'\u001b[39m\u001b[38;5;124madam\u001b[39m\u001b[38;5;124m'\u001b[39m, loss\u001b[38;5;241m=\u001b[39m\u001b[38;5;124m'\u001b[39m\u001b[38;5;124mcategorical_crossentropy\u001b[39m\u001b[38;5;124m'\u001b[39m, metrics\u001b[38;5;241m=\u001b[39m[\u001b[38;5;124m'\u001b[39m\u001b[38;5;124maccuracy\u001b[39m\u001b[38;5;124m'\u001b[39m])\n\u001b[1;32m      3\u001b[0m model\u001b[38;5;241m.\u001b[39msummary()\n",
      "Cell \u001b[0;32mIn [17], line 60\u001b[0m, in \u001b[0;36mResNet50\u001b[0;34m(input_shape, outputClasses)\u001b[0m\n\u001b[1;32m     21\u001b[0m     X_input \u001b[38;5;241m=\u001b[39m Input(input_shape)\n\u001b[1;32m     23\u001b[0m \u001b[38;5;66;03m#     # Zero-Padding\u001b[39;00m\n\u001b[1;32m     24\u001b[0m \u001b[38;5;66;03m#     X = ZeroPadding2D((3, 3))(X_input)\u001b[39;00m\n\u001b[1;32m     25\u001b[0m \n\u001b[0;32m   (...)\u001b[0m\n\u001b[1;32m     58\u001b[0m \n\u001b[1;32m     59\u001b[0m     \u001b[38;5;66;03m# output layer\u001b[39;00m\n\u001b[0;32m---> 60\u001b[0m     X \u001b[38;5;241m=\u001b[39m Flatten()(\u001b[43mX\u001b[49m)\n\u001b[1;32m     61\u001b[0m     x \u001b[38;5;241m=\u001b[39m Dense(\u001b[38;5;241m10\u001b[39m, activation \u001b[38;5;241m=\u001b[39m \u001b[38;5;124m'\u001b[39m\u001b[38;5;124msigmoid\u001b[39m\u001b[38;5;124m'\u001b[39m, name \u001b[38;5;241m=\u001b[39m \u001b[38;5;124m'\u001b[39m\u001b[38;5;124mfc2\u001b[39m\u001b[38;5;124m'\u001b[39m, kernel_initializer \u001b[38;5;241m=\u001b[39m glorot_uniform(seed\u001b[38;5;241m=\u001b[39m\u001b[38;5;241m0\u001b[39m))(X) \n\u001b[1;32m     63\u001b[0m     X \u001b[38;5;241m=\u001b[39m Dense(outputClasses, activation\u001b[38;5;241m=\u001b[39m\u001b[38;5;124m'\u001b[39m\u001b[38;5;124msoftmax\u001b[39m\u001b[38;5;124m'\u001b[39m, name\u001b[38;5;241m=\u001b[39m\u001b[38;5;124m'\u001b[39m\u001b[38;5;124mfc\u001b[39m\u001b[38;5;124m'\u001b[39m \u001b[38;5;241m+\u001b[39m \u001b[38;5;28mstr\u001b[39m(outputClasses), \n\u001b[1;32m     64\u001b[0m               kernel_initializer\u001b[38;5;241m=\u001b[39mglorot_uniform(seed\u001b[38;5;241m=\u001b[39m\u001b[38;5;241m0\u001b[39m))(X)\n",
      "\u001b[0;31mUnboundLocalError\u001b[0m: local variable 'X' referenced before assignment"
     ]
    }
   ],
   "source": [
    "model = ResNet50(input_shape=(28, 28, 1), outputClasses=10)\n",
    "model.compile(optimizer='adam', loss='categorical_crossentropy', metrics=['accuracy'])\n",
    "model.summary()"
   ]
  },
  {
   "cell_type": "code",
   "execution_count": null,
   "id": "d3d8dab7-f351-46e6-b7d9-26c49bec4115",
   "metadata": {},
   "outputs": [
    {
     "name": "stdout",
     "output_type": "stream",
     "text": [
      "Epoch 1/5\n",
      "559/938 [================>.............] - ETA: 5s - loss: 0.0159 - accuracy: 0.9951"
     ]
    }
   ],
   "source": [
    "model.fit(X_train, Y_train, epochs = 5, batch_size = 64)\n"
   ]
  },
  {
   "cell_type": "code",
   "execution_count": 10,
   "id": "7ef61a64-2d1d-4684-acd5-9eef0cd6ab6c",
   "metadata": {},
   "outputs": [
    {
     "name": "stdout",
     "output_type": "stream",
     "text": [
      " 13/313 [>.............................] - ETA: 2s - loss: 0.0304 - accuracy: 0.9880"
     ]
    },
    {
     "name": "stderr",
     "output_type": "stream",
     "text": [
      "2023-01-05 17:29:22.126204: I tensorflow/core/grappler/optimizers/custom_graph_optimizer_registry.cc:114] Plugin optimizer for device_type GPU is enabled.\n"
     ]
    },
    {
     "name": "stdout",
     "output_type": "stream",
     "text": [
      "313/313 [==============================] - 3s 8ms/step - loss: 0.0537 - accuracy: 0.9841\n",
      "Test Loss = 0.05371246486902237\n",
      "Test Accuracy = 0.9841000437736511\n"
     ]
    }
   ],
   "source": [
    "preds = model.evaluate(X_test, Y_test)\n",
    "print(\"Test Loss = \" + str(preds[0]))\n",
    "print(\"Test Accuracy = \" + str(preds[1]))\n"
   ]
  },
  {
   "cell_type": "code",
   "execution_count": 14,
   "id": "511c5e07-e06f-4e22-a138-02f5fe338f16",
   "metadata": {},
   "outputs": [
    {
     "name": "stdout",
     "output_type": "stream",
     "text": [
      " 55/313 [====>.........................] - ETA: 0s"
     ]
    },
    {
     "name": "stderr",
     "output_type": "stream",
     "text": [
      "2023-01-05 17:33:47.214644: I tensorflow/core/grappler/optimizers/custom_graph_optimizer_registry.cc:114] Plugin optimizer for device_type GPU is enabled.\n"
     ]
    },
    {
     "name": "stdout",
     "output_type": "stream",
     "text": [
      "313/313 [==============================] - 1s 3ms/step\n",
      "0.9998581814437809\n"
     ]
    }
   ],
   "source": [
    "from sklearn.metrics import roc_auc_score\n",
    "y_pred = model.predict(X_test)\n",
    "auc_roc = roc_auc_score(Y_test, y_pred)\n",
    "print(auc_roc)"
   ]
  },
  {
   "cell_type": "code",
   "execution_count": null,
   "id": "833c790c-e4bb-4cbe-83b9-5f854c351e82",
   "metadata": {},
   "outputs": [],
   "source": []
  }
 ],
 "metadata": {
  "kernelspec": {
   "display_name": "Python 3 (ipykernel)",
   "language": "python",
   "name": "python3"
  },
  "language_info": {
   "codemirror_mode": {
    "name": "ipython",
    "version": 3
   },
   "file_extension": ".py",
   "mimetype": "text/x-python",
   "name": "python",
   "nbconvert_exporter": "python",
   "pygments_lexer": "ipython3",
   "version": "3.9.12"
  }
 },
 "nbformat": 4,
 "nbformat_minor": 5
}
